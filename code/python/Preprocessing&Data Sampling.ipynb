{
 "cells": [
  {
   "cell_type": "code",
   "execution_count": 11,
   "id": "d4acdaed",
   "metadata": {},
   "outputs": [],
   "source": [
    "import pandas as pd\n",
    "import numpy as np"
   ]
  },
  {
   "cell_type": "code",
   "execution_count": 12,
   "id": "1092199c",
   "metadata": {},
   "outputs": [],
   "source": [
    "train=pd.read_csv('C:/Users/82102/OneDrive - dongguk.edu/바탕 화면/2023.1학기 비어플/data/train.csv',encoding='utf-8')\n",
    "test=pd.read_csv('C:/Users/82102/OneDrive - dongguk.edu/바탕 화면/2023.1학기 비어플/data/test.csv',encoding='utf-8')"
   ]
  },
  {
   "cell_type": "markdown",
   "id": "52fe9466",
   "metadata": {},
   "source": [
    "## ID 열은 학습에 사용하지 않으므로 삭제"
   ]
  },
  {
   "cell_type": "code",
   "execution_count": 13,
   "id": "a3599f58",
   "metadata": {},
   "outputs": [],
   "source": [
    "train.drop(['ID'], axis=1,inplace=True)\n",
    "test.drop(['ID'], axis=1,inplace=True)"
   ]
  },
  {
   "cell_type": "markdown",
   "id": "6c104ced",
   "metadata": {},
   "source": [
    "## target 인 STATUS 승인은 0, 승인거부는 1으로 변환"
   ]
  },
  {
   "cell_type": "code",
   "execution_count": 14,
   "id": "1f12b76c",
   "metadata": {},
   "outputs": [],
   "source": [
    "train['STATUS'] = train['STATUS'].replace({'승인':0, '승인거부':1})\n",
    "test['STATUS'] = test['STATUS'].replace({'승인':0, '승인거부':1})"
   ]
  },
  {
   "cell_type": "markdown",
   "id": "0c3fbeaa",
   "metadata": {},
   "source": [
    "## 범주형 변수는 One-hot Encoding, 수치형 변수는 Scaling\n",
    "\n",
    "- train, test  각각 따로 진행하여 set 만듦"
   ]
  },
  {
   "cell_type": "code",
   "execution_count": 15,
   "id": "bb94f3ac",
   "metadata": {},
   "outputs": [],
   "source": [
    "from sklearn.compose import ColumnTransformer\n",
    "from sklearn.preprocessing import StandardScaler\n",
    "from sklearn.preprocessing import OneHotEncoder"
   ]
  },
  {
   "cell_type": "code",
   "execution_count": 16,
   "id": "32a7fcf0",
   "metadata": {},
   "outputs": [],
   "source": [
    "cate_train = train[['CODE_GENDER','CNT_CHILDREN','NAME_EDUCATION_TYPE','NAME_FAMILY_STATUS','NAME_HOUSING_TYPE','OCCUPATION_TYPE']]\n",
    "conti_train = train[['AMT_INCOME_TOTAL','age','고용개월','MONTHS_BALANCE','begin','승인비율']]\n",
    "\n",
    "cate_test = test[['CODE_GENDER','CNT_CHILDREN','NAME_EDUCATION_TYPE','NAME_FAMILY_STATUS','NAME_HOUSING_TYPE','OCCUPATION_TYPE']]\n",
    "conti_test = test[['AMT_INCOME_TOTAL','age','고용개월','MONTHS_BALANCE','begin','승인비율']]\n",
    "\n",
    "y_train=train[['STATUS']]\n",
    "y_test=test[['STATUS']]"
   ]
  },
  {
   "cell_type": "code",
   "execution_count": 17,
   "id": "4606b3be",
   "metadata": {},
   "outputs": [],
   "source": [
    "cate_train_dummy=pd.get_dummies(cate_train)\n",
    "cate_test_dummy=pd.get_dummies(cate_test)\n",
    "\n",
    "scaler_train=StandardScaler()\n",
    "conti_train_st=scaler_train.fit_transform(conti_train)\n",
    "scaler_test=StandardScaler()\n",
    "conti_test_st=scaler_test.fit_transform(conti_test)"
   ]
  },
  {
   "cell_type": "code",
   "execution_count": 18,
   "id": "d0e23bee",
   "metadata": {},
   "outputs": [],
   "source": [
    "conti_train_st=pd.DataFrame(conti_train_st, columns=conti_train.columns)\n",
    "conti_test_st=pd.DataFrame(conti_test_st, columns=conti_test.columns)\n",
    "\n",
    "cate_train_dummy.reset_index(inplace=True, drop=True)\n",
    "conti_train_st.reset_index(inplace=True, drop=True)\n",
    "y_train.reset_index(inplace=True, drop=True)\n",
    "cate_test_dummy.reset_index(inplace=True, drop=True)\n",
    "conti_test_st.reset_index(inplace=True, drop=True)\n",
    "y_test.reset_index(inplace=True, drop=True)"
   ]
  },
  {
   "cell_type": "code",
   "execution_count": 19,
   "id": "60820311",
   "metadata": {},
   "outputs": [],
   "source": [
    "train_set=pd.concat([conti_train_st,cate_train_dummy, y_train], axis=1)\n",
    "test_set=pd.concat([conti_test_st,cate_test_dummy, y_test], axis=1)"
   ]
  },
  {
   "cell_type": "code",
   "execution_count": 20,
   "id": "6bbcd690",
   "metadata": {},
   "outputs": [],
   "source": [
    "train_set.to_csv('train_set.csv', index=False, encoding='UTF-8-sig')\n",
    "test_set.to_csv('test_set.csv', index=False, encoding='UTF-8-sig')"
   ]
  },
  {
   "cell_type": "markdown",
   "id": "953caa7d",
   "metadata": {},
   "source": [
    "## Data Sampling"
   ]
  },
  {
   "cell_type": "code",
   "execution_count": 10,
   "id": "ea8f6e36",
   "metadata": {},
   "outputs": [],
   "source": [
    "train_maj=train_set[train_set['STATUS']==0] #130224 행\n",
    "train_1=train_set[train_set['STATUS']==1] #2173행"
   ]
  },
  {
   "cell_type": "code",
   "execution_count": 11,
   "id": "3dce99f8",
   "metadata": {},
   "outputs": [
    {
     "name": "stdout",
     "output_type": "stream",
     "text": [
      "train_1 : 2173\n",
      "train_2 : 2173\n",
      "train_3 : 64026\n",
      "train_4 : 64025\n",
      "\n"
     ]
    }
   ],
   "source": [
    "train_2 = train_maj.sample(2173, random_state=2023)\n",
    "train_34 = train_maj.drop(train_2.index)\n",
    "train_3 = train_34.sample(round(len(train_34)/2), random_state=2023)\n",
    "train_4 = train_34.drop(train_3.index)\n",
    "\n",
    "print(f'train_1 : {len(train_1)}\\ntrain_2 : {len(train_2)}\\ntrain_3 : {len(train_3)}\\ntrain_4 : {len(train_4)}\\n')"
   ]
  },
  {
   "cell_type": "code",
   "execution_count": 12,
   "id": "6ea67aaf",
   "metadata": {},
   "outputs": [],
   "source": [
    "train_3.loc[train_3['STATUS'].sample(round(len(train_3)/2), random_state = 2023).index, 'STATUS'] = 1"
   ]
  },
  {
   "cell_type": "code",
   "execution_count": 13,
   "id": "671271fb",
   "metadata": {},
   "outputs": [],
   "source": [
    "X_train=train_3.drop(['STATUS'], axis=1)\n",
    "y_train=train_3['STATUS']\n",
    "\n",
    "X_test_2 = train_2.drop(['STATUS'], axis=1)\n",
    "y_test_2 = train_2['STATUS']\n",
    "X_test_4 = train_4.drop(['STATUS'], axis=1)\n",
    "y_test_4 = train_4['STATUS']"
   ]
  },
  {
   "cell_type": "code",
   "execution_count": 14,
   "id": "c3806a06",
   "metadata": {},
   "outputs": [],
   "source": [
    "from sklearn.metrics import accuracy_score\n",
    "from sklearn.linear_model import LogisticRegression\n",
    "from sklearn.ensemble import RandomForestClassifier\n",
    "from sklearn.svm import SVC\n",
    "from xgboost import XGBClassifier\n",
    "from sklearn.neighbors import KNeighborsClassifier"
   ]
  },
  {
   "cell_type": "markdown",
   "id": "5f591eb0",
   "metadata": {},
   "source": [
    "### 1. Logistic Regression"
   ]
  },
  {
   "cell_type": "code",
   "execution_count": 15,
   "id": "c2f54ad0",
   "metadata": {},
   "outputs": [
    {
     "name": "stderr",
     "output_type": "stream",
     "text": [
      "C:\\Users\\82102\\anaconda3\\lib\\site-packages\\sklearn\\linear_model\\_logistic.py:1173: FutureWarning: `penalty='none'`has been deprecated in 1.2 and will be removed in 1.4. To keep the past behaviour, set `penalty=None`.\n",
      "  warnings.warn(\n"
     ]
    },
    {
     "name": "stdout",
     "output_type": "stream",
     "text": [
      "Logistc train 2 Accuracy : 0.5167970547630004\n",
      "Logistc train 4 Accuracy : 0.5136587270597422\n"
     ]
    }
   ],
   "source": [
    "model = LogisticRegression(penalty = 'none', solver='saga',random_state=0) \n",
    "model.fit(X_train, y_train) # 모델 학습\n",
    "\n",
    "y_pred_2 = model.predict(X_test_2) # 예측 라벨\n",
    "print(f'Logistc train 2 Accuracy : {accuracy_score(y_pred_2, y_test_2)}')\n",
    "\n",
    "y_pred_4 = model.predict(X_test_4) # 예측 라벨\n",
    "print(f'Logistc train 4 Accuracy : {accuracy_score(y_pred_4, y_test_4)}')"
   ]
  },
  {
   "cell_type": "markdown",
   "id": "5482cbf5",
   "metadata": {},
   "source": [
    "### 2. Random Forest"
   ]
  },
  {
   "cell_type": "code",
   "execution_count": 16,
   "id": "3ce0eb39",
   "metadata": {},
   "outputs": [
    {
     "name": "stdout",
     "output_type": "stream",
     "text": [
      "Random Forest train 2 Accuracy : 0.500230096640589\n",
      "Random Forest train 4 Accuracy : 0.5015853182350645\n"
     ]
    }
   ],
   "source": [
    "model_log = RandomForestClassifier(random_state=0)\n",
    "model_log.fit(X_train, y_train) # 모델 학습\n",
    "\n",
    "y_pred_2 = model_log.predict(X_test_2) # 예측 라벨\n",
    "print(f'Random Forest train 2 Accuracy : {accuracy_score(y_pred_2, y_test_2)}')\n",
    "\n",
    "y_pred_4 = model_log.predict(X_test_4) # 예측 라벨\n",
    "print(f'Random Forest train 4 Accuracy : {accuracy_score(y_pred_4, y_test_4)}')"
   ]
  },
  {
   "cell_type": "markdown",
   "id": "757438ac",
   "metadata": {},
   "source": [
    "### 3.SVM"
   ]
  },
  {
   "cell_type": "code",
   "execution_count": 17,
   "id": "5aebeb8a",
   "metadata": {},
   "outputs": [
    {
     "name": "stdout",
     "output_type": "stream",
     "text": [
      "SVM train 2 Accuracy : 0.49056603773584906\n",
      "SVM train 4 Accuracy : 0.4986333463490824\n"
     ]
    }
   ],
   "source": [
    "model_log = SVC(kernel = 'rbf',random_state=0)\n",
    "model_log.fit(X_train, y_train) # 모델 학습\n",
    "\n",
    "y_pred_2 = model_log.predict(X_test_2) # 예측 라벨\n",
    "print(f'SVM train 2 Accuracy : {accuracy_score(y_pred_2, y_test_2)}')\n",
    "\n",
    "y_pred_4 = model_log.predict(X_test_4) # 예측 라벨\n",
    "print(f'SVM train 4 Accuracy : {accuracy_score(y_pred_4, y_test_4)}')"
   ]
  },
  {
   "cell_type": "markdown",
   "id": "283c8a8b",
   "metadata": {},
   "source": [
    "### 4. XGB"
   ]
  },
  {
   "cell_type": "code",
   "execution_count": 18,
   "id": "0e027235",
   "metadata": {},
   "outputs": [
    {
     "name": "stderr",
     "output_type": "stream",
     "text": [
      "C:\\Users\\82102\\anaconda3\\lib\\site-packages\\xgboost\\sklearn.py:1224: UserWarning: The use of label encoder in XGBClassifier is deprecated and will be removed in a future release. To remove this warning, do the following: 1) Pass option use_label_encoder=False when constructing XGBClassifier object; and 2) Encode your labels (y) as integers starting with 0, i.e. 0, 1, 2, ..., [num_class - 1].\n",
      "  warnings.warn(label_encoder_deprecation_msg, UserWarning)\n"
     ]
    },
    {
     "name": "stdout",
     "output_type": "stream",
     "text": [
      "[04:34:40] WARNING: ..\\src\\learner.cc:1115: Starting in XGBoost 1.3.0, the default evaluation metric used with the objective 'binary:logistic' was changed from 'error' to 'logloss'. Explicitly set eval_metric if you'd like to restore the old behavior.\n",
      "XGB train 2 Accuracy : 0.48182236539346524\n",
      "XGB train 4 Accuracy : 0.4942912924638813\n"
     ]
    }
   ],
   "source": [
    "model_log = XGBClassifier(random_state=0)\n",
    "model_log.fit(X_train, y_train) # 모델 학습\n",
    "\n",
    "y_pred_2 = model_log.predict(X_test_2) # 예측 라벨\n",
    "print(f'XGB train 2 Accuracy : {accuracy_score(y_pred_2, y_test_2)}')\n",
    "\n",
    "y_pred_4 = model_log.predict(X_test_4) # 예측 라벨\n",
    "print(f'XGB train 4 Accuracy : {accuracy_score(y_pred_4, y_test_4)}')"
   ]
  },
  {
   "cell_type": "markdown",
   "id": "71fe9321",
   "metadata": {},
   "source": [
    "### 5. KNN"
   ]
  },
  {
   "cell_type": "code",
   "execution_count": 19,
   "id": "8fa44e02",
   "metadata": {},
   "outputs": [
    {
     "name": "stdout",
     "output_type": "stream",
     "text": [
      "KNN train 2 Accuracy : 0.49194661757938335\n",
      "KNN train 4 Accuracy : 0.5011479890667708\n"
     ]
    }
   ],
   "source": [
    "model_log = KNeighborsClassifier()\n",
    "model_log.fit(X_train, y_train) # 모델 학습\n",
    "\n",
    "y_pred_2 = model_log.predict(X_test_2) # 예측 라벨\n",
    "print(f'KNN train 2 Accuracy : {accuracy_score(y_pred_2, y_test_2)}')\n",
    "\n",
    "y_pred_4 = model_log.predict(X_test_4) # 예측 라벨\n",
    "print(f'KNN train 4 Accuracy : {accuracy_score(y_pred_4, y_test_4)}')"
   ]
  },
  {
   "cell_type": "code",
   "execution_count": 20,
   "id": "70f38a5d",
   "metadata": {},
   "outputs": [],
   "source": [
    "train_1.to_csv('train_1.csv', index=False, encoding='UTF-8-sig')\n",
    "train_2.to_csv('train_2.csv', index=False, encoding='UTF-8-sig')"
   ]
  },
  {
   "cell_type": "code",
   "execution_count": null,
   "id": "62279ec1",
   "metadata": {},
   "outputs": [],
   "source": []
  },
  {
   "cell_type": "code",
   "execution_count": null,
   "id": "1915f17d",
   "metadata": {},
   "outputs": [],
   "source": []
  }
 ],
 "metadata": {
  "kernelspec": {
   "display_name": "Python 3 (ipykernel)",
   "language": "python",
   "name": "python3"
  },
  "language_info": {
   "codemirror_mode": {
    "name": "ipython",
    "version": 3
   },
   "file_extension": ".py",
   "mimetype": "text/x-python",
   "name": "python",
   "nbconvert_exporter": "python",
   "pygments_lexer": "ipython3",
   "version": "3.9.7"
  }
 },
 "nbformat": 4,
 "nbformat_minor": 5
}
