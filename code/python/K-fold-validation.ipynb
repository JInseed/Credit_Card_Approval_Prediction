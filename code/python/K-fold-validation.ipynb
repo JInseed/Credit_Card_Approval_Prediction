{
 "cells": [
  {
   "cell_type": "code",
   "execution_count": 1,
   "id": "b6ba2aa5",
   "metadata": {},
   "outputs": [],
   "source": [
    "import pandas as pd\n",
    "import numpy as np"
   ]
  },
  {
   "cell_type": "code",
   "execution_count": 2,
   "id": "4b7e94c0",
   "metadata": {},
   "outputs": [],
   "source": [
    "train=pd.read_csv('C:/Users/82102/OneDrive - dongguk.edu/바탕 화면/2023.1학기 비어플/data/train.csv',encoding='utf-8')\n",
    "test=pd.read_csv('C:/Users/82102/OneDrive - dongguk.edu/바탕 화면/2023.1학기 비어플/data/test.csv',encoding='utf-8')"
   ]
  },
  {
   "cell_type": "code",
   "execution_count": 3,
   "id": "caeb8b40",
   "metadata": {},
   "outputs": [
    {
     "name": "stdout",
     "output_type": "stream",
     "text": [
      "<class 'pandas.core.frame.DataFrame'>\n",
      "RangeIndex: 132397 entries, 0 to 132396\n",
      "Data columns (total 14 columns):\n",
      " #   Column               Non-Null Count   Dtype  \n",
      "---  ------               --------------   -----  \n",
      " 0   ID                   132397 non-null  int64  \n",
      " 1   CODE_GENDER          132397 non-null  object \n",
      " 2   CNT_CHILDREN         132397 non-null  object \n",
      " 3   AMT_INCOME_TOTAL     132397 non-null  float64\n",
      " 4   NAME_EDUCATION_TYPE  132397 non-null  object \n",
      " 5   NAME_FAMILY_STATUS   132397 non-null  object \n",
      " 6   NAME_HOUSING_TYPE    132397 non-null  object \n",
      " 7   OCCUPATION_TYPE      132397 non-null  object \n",
      " 8   age                  132397 non-null  float64\n",
      " 9   고용개월                 132397 non-null  float64\n",
      " 10  MONTHS_BALANCE       132397 non-null  int64  \n",
      " 11  STATUS               132397 non-null  object \n",
      " 12  begin                132397 non-null  int64  \n",
      " 13  승인비율                 132397 non-null  float64\n",
      "dtypes: float64(4), int64(3), object(7)\n",
      "memory usage: 14.1+ MB\n"
     ]
    }
   ],
   "source": [
    "train.info()"
   ]
  },
  {
   "cell_type": "code",
   "execution_count": 4,
   "id": "0f59ef20",
   "metadata": {},
   "outputs": [
    {
     "name": "stdout",
     "output_type": "stream",
     "text": [
      "<class 'pandas.core.frame.DataFrame'>\n",
      "RangeIndex: 56742 entries, 0 to 56741\n",
      "Data columns (total 14 columns):\n",
      " #   Column               Non-Null Count  Dtype  \n",
      "---  ------               --------------  -----  \n",
      " 0   ID                   56742 non-null  int64  \n",
      " 1   CODE_GENDER          56742 non-null  object \n",
      " 2   CNT_CHILDREN         56742 non-null  object \n",
      " 3   AMT_INCOME_TOTAL     56742 non-null  float64\n",
      " 4   NAME_EDUCATION_TYPE  56742 non-null  object \n",
      " 5   NAME_FAMILY_STATUS   56742 non-null  object \n",
      " 6   NAME_HOUSING_TYPE    56742 non-null  object \n",
      " 7   OCCUPATION_TYPE      56742 non-null  object \n",
      " 8   age                  56742 non-null  float64\n",
      " 9   고용개월                 56742 non-null  float64\n",
      " 10  MONTHS_BALANCE       56742 non-null  int64  \n",
      " 11  STATUS               56742 non-null  object \n",
      " 12  begin                56742 non-null  int64  \n",
      " 13  승인비율                 56742 non-null  float64\n",
      "dtypes: float64(4), int64(3), object(7)\n",
      "memory usage: 6.1+ MB\n"
     ]
    }
   ],
   "source": [
    "test.info()"
   ]
  },
  {
   "cell_type": "markdown",
   "id": "e65c8f20",
   "metadata": {},
   "source": [
    "## ID 열은 학습에 사용하지 않으므로 삭제"
   ]
  },
  {
   "cell_type": "code",
   "execution_count": 5,
   "id": "81db4340",
   "metadata": {},
   "outputs": [],
   "source": [
    "train.drop(['ID'], axis=1,inplace=True)\n",
    "test.drop(['ID'], axis=1,inplace=True)"
   ]
  },
  {
   "cell_type": "markdown",
   "id": "ce537bce",
   "metadata": {},
   "source": [
    "## target 인 STATUS 승인은 1, 승인거부는 0으로 변환"
   ]
  },
  {
   "cell_type": "code",
   "execution_count": 6,
   "id": "423ec408",
   "metadata": {},
   "outputs": [],
   "source": [
    "train['STATUS'] = train['STATUS'].replace({'승인':1, '승인거부':0})\n",
    "test['STATUS'] = test['STATUS'].replace({'승인':1, '승인거부':0})"
   ]
  },
  {
   "cell_type": "markdown",
   "id": "27e64bbe",
   "metadata": {},
   "source": [
    "## 범주형 변수는 One-hot Encoding, 수치형 변수는 Scaling\n",
    "\n",
    "- train, test  각각 따로 진행하여 set 만듦"
   ]
  },
  {
   "cell_type": "code",
   "execution_count": 7,
   "id": "102ddcc3",
   "metadata": {},
   "outputs": [],
   "source": [
    "from sklearn.compose import ColumnTransformer\n",
    "from sklearn.preprocessing import StandardScaler\n",
    "from sklearn.preprocessing import OneHotEncoder"
   ]
  },
  {
   "cell_type": "code",
   "execution_count": 8,
   "id": "d279a8a6",
   "metadata": {},
   "outputs": [],
   "source": [
    "cate_train = train[['CODE_GENDER','CNT_CHILDREN','NAME_EDUCATION_TYPE','NAME_FAMILY_STATUS','NAME_HOUSING_TYPE','OCCUPATION_TYPE']]\n",
    "conti_train = train[['AMT_INCOME_TOTAL','age','고용개월','MONTHS_BALANCE','begin','승인비율']]\n",
    "\n",
    "cate_test = test[['CODE_GENDER','CNT_CHILDREN','NAME_EDUCATION_TYPE','NAME_FAMILY_STATUS','NAME_HOUSING_TYPE','OCCUPATION_TYPE']]\n",
    "conti_test = test[['AMT_INCOME_TOTAL','age','고용개월','MONTHS_BALANCE','begin','승인비율']]\n",
    "\n",
    "y_train=train[['STATUS']]\n",
    "y_test=test[['STATUS']]"
   ]
  },
  {
   "cell_type": "code",
   "execution_count": 9,
   "id": "9d173cf3",
   "metadata": {},
   "outputs": [],
   "source": [
    "cate_train_dummy=pd.get_dummies(cate_train)\n",
    "cate_test_dummy=pd.get_dummies(cate_test)\n",
    "\n",
    "scaler_train=StandardScaler()\n",
    "conti_train_st=scaler_train.fit_transform(conti_train)\n",
    "scaler_test=StandardScaler()\n",
    "conti_test_st=scaler_test.fit_transform(conti_test)"
   ]
  },
  {
   "cell_type": "code",
   "execution_count": 10,
   "id": "52ce95c9",
   "metadata": {},
   "outputs": [],
   "source": [
    "conti_train_st=pd.DataFrame(conti_train_st, columns=conti_train.columns)\n",
    "conti_test_st=pd.DataFrame(conti_test_st, columns=conti_test.columns)\n",
    "\n",
    "cate_train_dummy.reset_index(inplace=True, drop=True)\n",
    "conti_train_st.reset_index(inplace=True, drop=True)\n",
    "y_train.reset_index(inplace=True, drop=True)\n",
    "cate_test_dummy.reset_index(inplace=True, drop=True)\n",
    "conti_test_st.reset_index(inplace=True, drop=True)\n",
    "y_test.reset_index(inplace=True, drop=True)"
   ]
  },
  {
   "cell_type": "code",
   "execution_count": 11,
   "id": "c735c88f",
   "metadata": {},
   "outputs": [],
   "source": [
    "train_set=pd.concat([conti_train_st,cate_train_dummy, y_train], axis=1)\n",
    "test_set=pd.concat([conti_test_st,cate_test_dummy, y_test], axis=1)"
   ]
  },
  {
   "cell_type": "markdown",
   "id": "625fdd7a",
   "metadata": {},
   "source": [
    "## K-fold Cross Validation 으로 모델 신뢰도 평가"
   ]
  },
  {
   "cell_type": "code",
   "execution_count": 12,
   "id": "9d26e7dc",
   "metadata": {},
   "outputs": [],
   "source": [
    "from sklearn.metrics import confusion_matrix, classification_report, accuracy_score, f1_score, recall_score, make_scorer"
   ]
  },
  {
   "cell_type": "code",
   "execution_count": 13,
   "id": "728ce985",
   "metadata": {},
   "outputs": [],
   "source": [
    "X = np.array(train_set.drop(['STATUS'], axis=1)) \n",
    "y = train_set['STATUS']\n",
    "\n",
    "# split 개수, 셔플 여부 및 seed 설정\n",
    "kf = KFold(n_splits = 5, shuffle = True, random_state = 50)\n",
    "\n",
    "# split 개수 스텝 만큼 train, test 데이터셋을 매번 분할\n",
    "for train_index, test_index in kf.split(X):\n",
    "    X_train, X_test = X[train_index], X[test_index]\n",
    "    y_train, y_test = y[train_index], y[test_index]"
   ]
  },
  {
   "cell_type": "code",
   "execution_count": 14,
   "id": "d0bfe13a",
   "metadata": {},
   "outputs": [
    {
     "data": {
      "text/plain": [
       "0    130224\n",
       "1      2173\n",
       "Name: STATUS, dtype: int64"
      ]
     },
     "execution_count": 14,
     "metadata": {},
     "output_type": "execute_result"
    }
   ],
   "source": [
    "train_set['STATUS'].value_counts()"
   ]
  },
  {
   "cell_type": "markdown",
   "id": "7ed6d8e0",
   "metadata": {},
   "source": [
    "### 1. Logistic Regression"
   ]
  },
  {
   "cell_type": "code",
   "execution_count": 15,
   "id": "3b5f4b79",
   "metadata": {},
   "outputs": [],
   "source": [
    "from sklearn.linear_model import LogisticRegression"
   ]
  },
  {
   "cell_type": "code",
   "execution_count": 16,
   "id": "355bf139",
   "metadata": {},
   "outputs": [
    {
     "name": "stderr",
     "output_type": "stream",
     "text": [
      "C:\\Users\\82102\\anaconda3\\lib\\site-packages\\sklearn\\linear_model\\_logistic.py:1173: FutureWarning: `penalty='none'`has been deprecated in 1.2 and will be removed in 1.4. To keep the past behaviour, set `penalty=None`.\n",
      "  warnings.warn(\n",
      "C:\\Users\\82102\\anaconda3\\lib\\site-packages\\sklearn\\linear_model\\_sag.py:350: ConvergenceWarning: The max_iter was reached which means the coef_ did not converge\n",
      "  warnings.warn(\n",
      "C:\\Users\\82102\\anaconda3\\lib\\site-packages\\sklearn\\linear_model\\_logistic.py:1173: FutureWarning: `penalty='none'`has been deprecated in 1.2 and will be removed in 1.4. To keep the past behaviour, set `penalty=None`.\n",
      "  warnings.warn(\n",
      "C:\\Users\\82102\\anaconda3\\lib\\site-packages\\sklearn\\linear_model\\_sag.py:350: ConvergenceWarning: The max_iter was reached which means the coef_ did not converge\n",
      "  warnings.warn(\n",
      "C:\\Users\\82102\\anaconda3\\lib\\site-packages\\sklearn\\linear_model\\_logistic.py:1173: FutureWarning: `penalty='none'`has been deprecated in 1.2 and will be removed in 1.4. To keep the past behaviour, set `penalty=None`.\n",
      "  warnings.warn(\n",
      "C:\\Users\\82102\\anaconda3\\lib\\site-packages\\sklearn\\linear_model\\_sag.py:350: ConvergenceWarning: The max_iter was reached which means the coef_ did not converge\n",
      "  warnings.warn(\n",
      "C:\\Users\\82102\\anaconda3\\lib\\site-packages\\sklearn\\linear_model\\_logistic.py:1173: FutureWarning: `penalty='none'`has been deprecated in 1.2 and will be removed in 1.4. To keep the past behaviour, set `penalty=None`.\n",
      "  warnings.warn(\n",
      "C:\\Users\\82102\\anaconda3\\lib\\site-packages\\sklearn\\linear_model\\_sag.py:350: ConvergenceWarning: The max_iter was reached which means the coef_ did not converge\n",
      "  warnings.warn(\n",
      "C:\\Users\\82102\\anaconda3\\lib\\site-packages\\sklearn\\linear_model\\_logistic.py:1173: FutureWarning: `penalty='none'`has been deprecated in 1.2 and will be removed in 1.4. To keep the past behaviour, set `penalty=None`.\n",
      "  warnings.warn(\n"
     ]
    },
    {
     "name": "stdout",
     "output_type": "stream",
     "text": [
      "각 분할의 Accuracy 기록 : [0.9858761329305136, 0.9845921450151057, 0.9837229502624721, 0.9833452924959402, 0.9852335813286001]\n",
      "Accuracy 평균: 0.9845540204065264\n",
      "Accuracy 표준편차: 0.0009341240608014769\n",
      "각 분할의 recall 기록 : [0.593939393939394, 0.6028708133971292, 0.5397727272727273, 0.5174418604651163, 0.5955056179775281]\n",
      "recall 평균 : 0.5699060826103789\n",
      "recall 표준편차: 0.034583589893204696\n"
     ]
    },
    {
     "name": "stderr",
     "output_type": "stream",
     "text": [
      "C:\\Users\\82102\\anaconda3\\lib\\site-packages\\sklearn\\linear_model\\_sag.py:350: ConvergenceWarning: The max_iter was reached which means the coef_ did not converge\n",
      "  warnings.warn(\n"
     ]
    }
   ],
   "source": [
    "accuracy_history = []\n",
    "recall_history = []\n",
    "\n",
    "for train_index, test_index in kf.split(X):\n",
    "\n",
    "    X_train, X_test = X[train_index], X[test_index]\n",
    "    y_train, y_test = y[train_index], y[test_index]\n",
    "\n",
    "    model = LogisticRegression(penalty = 'none', solver='saga',random_state=0) \n",
    "    model.fit(X_train, y_train) # 모델 학습\n",
    "\n",
    "    y_pred = model.predict(X_test) # 예측 라벨\n",
    "    accuracy_history.append(accuracy_score(y_pred, y_test)) \n",
    "    recall_history.append(recall_score(y_pred, y_test, pos_label = 1)) \n",
    "\n",
    "print(\"각 분할의 Accuracy 기록 :\", accuracy_history)\n",
    "print(\"Accuracy 평균:\", np.mean(accuracy_history))\n",
    "print(\"Accuracy 표준편차:\", np.std(accuracy_history))\n",
    "\n",
    "print(\"각 분할의 recall 기록 :\", recall_history)\n",
    "print(\"recall 평균 :\", np.mean(recall_history))\n",
    "print(\"recall 표준편차:\", np.std(recall_history))"
   ]
  },
  {
   "cell_type": "markdown",
   "id": "76260395",
   "metadata": {},
   "source": [
    "### 2. Random Forest"
   ]
  },
  {
   "cell_type": "code",
   "execution_count": 17,
   "id": "ec3f3c43",
   "metadata": {},
   "outputs": [],
   "source": [
    "from sklearn.ensemble import RandomForestClassifier"
   ]
  },
  {
   "cell_type": "code",
   "execution_count": 18,
   "id": "d97d828d",
   "metadata": {},
   "outputs": [
    {
     "name": "stdout",
     "output_type": "stream",
     "text": [
      "각 분할의 Accuracy 기록 : [0.9853474320241692, 0.9834214501510574, 0.983307526719287, 0.9833452924959402, 0.9845915631254957]\n",
      "Accuracy 평균: 0.9840026529031899\n",
      "Accuracy 표준편차: 0.0008256350149807576\n",
      "각 분할의 recall 기록 : [0.5216284987277354, 0.5148514851485149, 0.5037220843672456, 0.5071090047393365, 0.5231607629427792]\n",
      "recall 평균 : 0.5140943671851224\n",
      "recall 표준편차: 0.007693054492194416\n"
     ]
    }
   ],
   "source": [
    "accuracy_history = []\n",
    "recall_history = []\n",
    "\n",
    "for train_index, test_index in kf.split(X):\n",
    "\n",
    "    X_train, X_test = X[train_index], X[test_index]\n",
    "    y_train, y_test = y[train_index], y[test_index]\n",
    "\n",
    "    model = RandomForestClassifier(random_state=0) # 모델 선언\n",
    "    model.fit(X_train, y_train) # 모델 학습\n",
    "\n",
    "    y_pred = model.predict(X_test) # 예측 라벨\n",
    "    accuracy_history.append(accuracy_score(y_pred, y_test)) \n",
    "    recall_history.append(recall_score(y_pred, y_test, pos_label = 1)) \n",
    "\n",
    "print(\"각 분할의 Accuracy 기록 :\", accuracy_history)\n",
    "print(\"Accuracy 평균:\", np.mean(accuracy_history))\n",
    "print(\"Accuracy 표준편차:\", np.std(accuracy_history))\n",
    "\n",
    "print(\"각 분할의 recall 기록 :\", recall_history)\n",
    "print(\"recall 평균 :\", np.mean(recall_history))\n",
    "print(\"recall 표준편차:\", np.std(recall_history))"
   ]
  },
  {
   "cell_type": "markdown",
   "id": "78b42de5",
   "metadata": {},
   "source": [
    "### 3.SVM"
   ]
  },
  {
   "cell_type": "code",
   "execution_count": 19,
   "id": "24ad1dfe",
   "metadata": {},
   "outputs": [],
   "source": [
    "from sklearn.svm import SVC"
   ]
  },
  {
   "cell_type": "code",
   "execution_count": 20,
   "id": "f5dc7cd2",
   "metadata": {},
   "outputs": [
    {
     "name": "stdout",
     "output_type": "stream",
     "text": [
      "각 분할의 Accuracy 기록 : [0.9862160120845922, 0.9856495468277946, 0.9848559235620681, 0.9847048604554552, 0.9858755995317043]\n",
      "Accuracy 평균: 0.9854603884923229\n",
      "Accuracy 표준편차: 0.0005857215315655816\n",
      "각 분할의 recall 기록 : [0.696078431372549, 0.8034188034188035, 0.7037037037037037, 0.723404255319149, 0.7575757575757576]\n",
      "recall 평균 : 0.7368361902779925\n",
      "recall 표준편차: 0.03950379090336953\n"
     ]
    }
   ],
   "source": [
    "accuracy_history = []\n",
    "recall_history = []\n",
    "\n",
    "for train_index, test_index in kf.split(X):\n",
    "\n",
    "    X_train, X_test = X[train_index], X[test_index]\n",
    "    y_train, y_test = y[train_index], y[test_index]\n",
    "\n",
    "    model = SVC(kernel = 'rbf',random_state=0) # 모델 선언\n",
    "    model.fit(X_train, y_train) # 모델 학습\n",
    "\n",
    "    y_pred = model.predict(X_test) # 예측 라벨\n",
    "    accuracy_history.append(accuracy_score(y_pred, y_test)) \n",
    "    recall_history.append(recall_score(y_pred, y_test, pos_label = 1)) \n",
    "\n",
    "print(\"각 분할의 Accuracy 기록 :\", accuracy_history)\n",
    "print(\"Accuracy 평균:\", np.mean(accuracy_history))\n",
    "print(\"Accuracy 표준편차:\", np.std(accuracy_history))\n",
    "\n",
    "print(\"각 분할의 recall 기록 :\", recall_history)\n",
    "print(\"recall 평균 :\", np.mean(recall_history))\n",
    "print(\"recall 표준편차:\", np.std(recall_history))"
   ]
  },
  {
   "cell_type": "markdown",
   "id": "5fc0f3f8",
   "metadata": {},
   "source": [
    "### 4. XGB"
   ]
  },
  {
   "cell_type": "code",
   "execution_count": 21,
   "id": "ae2766b4",
   "metadata": {},
   "outputs": [],
   "source": [
    "from xgboost import XGBClassifier"
   ]
  },
  {
   "cell_type": "code",
   "execution_count": 22,
   "id": "8d5e3d02",
   "metadata": {},
   "outputs": [
    {
     "name": "stderr",
     "output_type": "stream",
     "text": [
      "C:\\Users\\82102\\anaconda3\\lib\\site-packages\\xgboost\\sklearn.py:1224: UserWarning: The use of label encoder in XGBClassifier is deprecated and will be removed in a future release. To remove this warning, do the following: 1) Pass option use_label_encoder=False when constructing XGBClassifier object; and 2) Encode your labels (y) as integers starting with 0, i.e. 0, 1, 2, ..., [num_class - 1].\n",
      "  warnings.warn(label_encoder_deprecation_msg, UserWarning)\n"
     ]
    },
    {
     "name": "stdout",
     "output_type": "stream",
     "text": [
      "[07:51:52] WARNING: ..\\src\\learner.cc:1115: Starting in XGBoost 1.3.0, the default evaluation metric used with the objective 'binary:logistic' was changed from 'error' to 'logloss'. Explicitly set eval_metric if you'd like to restore the old behavior.\n"
     ]
    },
    {
     "name": "stderr",
     "output_type": "stream",
     "text": [
      "C:\\Users\\82102\\anaconda3\\lib\\site-packages\\xgboost\\sklearn.py:1224: UserWarning: The use of label encoder in XGBClassifier is deprecated and will be removed in a future release. To remove this warning, do the following: 1) Pass option use_label_encoder=False when constructing XGBClassifier object; and 2) Encode your labels (y) as integers starting with 0, i.e. 0, 1, 2, ..., [num_class - 1].\n",
      "  warnings.warn(label_encoder_deprecation_msg, UserWarning)\n"
     ]
    },
    {
     "name": "stdout",
     "output_type": "stream",
     "text": [
      "[07:51:55] WARNING: ..\\src\\learner.cc:1115: Starting in XGBoost 1.3.0, the default evaluation metric used with the objective 'binary:logistic' was changed from 'error' to 'logloss'. Explicitly set eval_metric if you'd like to restore the old behavior.\n"
     ]
    },
    {
     "name": "stderr",
     "output_type": "stream",
     "text": [
      "C:\\Users\\82102\\anaconda3\\lib\\site-packages\\xgboost\\sklearn.py:1224: UserWarning: The use of label encoder in XGBClassifier is deprecated and will be removed in a future release. To remove this warning, do the following: 1) Pass option use_label_encoder=False when constructing XGBClassifier object; and 2) Encode your labels (y) as integers starting with 0, i.e. 0, 1, 2, ..., [num_class - 1].\n",
      "  warnings.warn(label_encoder_deprecation_msg, UserWarning)\n"
     ]
    },
    {
     "name": "stdout",
     "output_type": "stream",
     "text": [
      "[07:51:59] WARNING: ..\\src\\learner.cc:1115: Starting in XGBoost 1.3.0, the default evaluation metric used with the objective 'binary:logistic' was changed from 'error' to 'logloss'. Explicitly set eval_metric if you'd like to restore the old behavior.\n"
     ]
    },
    {
     "name": "stderr",
     "output_type": "stream",
     "text": [
      "C:\\Users\\82102\\anaconda3\\lib\\site-packages\\xgboost\\sklearn.py:1224: UserWarning: The use of label encoder in XGBClassifier is deprecated and will be removed in a future release. To remove this warning, do the following: 1) Pass option use_label_encoder=False when constructing XGBClassifier object; and 2) Encode your labels (y) as integers starting with 0, i.e. 0, 1, 2, ..., [num_class - 1].\n",
      "  warnings.warn(label_encoder_deprecation_msg, UserWarning)\n"
     ]
    },
    {
     "name": "stdout",
     "output_type": "stream",
     "text": [
      "[07:52:02] WARNING: ..\\src\\learner.cc:1115: Starting in XGBoost 1.3.0, the default evaluation metric used with the objective 'binary:logistic' was changed from 'error' to 'logloss'. Explicitly set eval_metric if you'd like to restore the old behavior.\n"
     ]
    },
    {
     "name": "stderr",
     "output_type": "stream",
     "text": [
      "C:\\Users\\82102\\anaconda3\\lib\\site-packages\\xgboost\\sklearn.py:1224: UserWarning: The use of label encoder in XGBClassifier is deprecated and will be removed in a future release. To remove this warning, do the following: 1) Pass option use_label_encoder=False when constructing XGBClassifier object; and 2) Encode your labels (y) as integers starting with 0, i.e. 0, 1, 2, ..., [num_class - 1].\n",
      "  warnings.warn(label_encoder_deprecation_msg, UserWarning)\n"
     ]
    },
    {
     "name": "stdout",
     "output_type": "stream",
     "text": [
      "[07:52:06] WARNING: ..\\src\\learner.cc:1115: Starting in XGBoost 1.3.0, the default evaluation metric used with the objective 'binary:logistic' was changed from 'error' to 'logloss'. Explicitly set eval_metric if you'd like to restore the old behavior.\n",
      "각 분할의 Accuracy 기록 : [0.9874244712990936, 0.9861027190332327, 0.9854601759885192, 0.9860644284149703, 0.9868197439480343]\n",
      "Accuracy 평균: 0.9863743077367699\n",
      "Accuracy 표준편차: 0.0006792171077153273\n",
      "각 분할의 recall 기록 : [0.6935483870967742, 0.7106598984771574, 0.6666666666666666, 0.7074468085106383, 0.7065217391304348]\n",
      "recall 평균 : 0.6969686999763344\n",
      "recall 표준편차: 0.01623830037177331\n"
     ]
    }
   ],
   "source": [
    "accuracy_history = []\n",
    "recall_history = []\n",
    "\n",
    "for train_index, test_index in kf.split(X):\n",
    "\n",
    "    X_train, X_test = X[train_index], X[test_index]\n",
    "    y_train, y_test = y[train_index], y[test_index]\n",
    "\n",
    "    model = XGBClassifier(random_state=0) # 모델 선언\n",
    "    model.fit(X_train, y_train) # 모델 학습\n",
    "\n",
    "    y_pred = model.predict(X_test) # 예측 라벨\n",
    "    accuracy_history.append(accuracy_score(y_pred, y_test)) \n",
    "    recall_history.append(recall_score(y_pred, y_test, pos_label = 1)) \n",
    "\n",
    "print(\"각 분할의 Accuracy 기록 :\", accuracy_history)\n",
    "print(\"Accuracy 평균:\", np.mean(accuracy_history))\n",
    "print(\"Accuracy 표준편차:\", np.std(accuracy_history))\n",
    "\n",
    "print(\"각 분할의 recall 기록 :\", recall_history)\n",
    "print(\"recall 평균 :\", np.mean(recall_history))\n",
    "print(\"recall 표준편차:\", np.std(recall_history))"
   ]
  },
  {
   "cell_type": "markdown",
   "id": "dc5a10a1",
   "metadata": {},
   "source": [
    "### 5. KNN"
   ]
  },
  {
   "cell_type": "code",
   "execution_count": 23,
   "id": "b5380ec7",
   "metadata": {},
   "outputs": [],
   "source": [
    "from sklearn.neighbors import KNeighborsClassifier"
   ]
  },
  {
   "cell_type": "code",
   "execution_count": 25,
   "id": "18d5ee23",
   "metadata": {},
   "outputs": [
    {
     "name": "stdout",
     "output_type": "stream",
     "text": [
      "각 분할의 Accuracy 기록 : [0.9868202416918429, 0.9861404833836858, 0.9847426262321085, 0.9851958155519468, 0.9854601759885192]\n",
      "Accuracy 평균: 0.9856718685696206\n",
      "Accuracy 표준편차: 0.0007312034215125868\n",
      "각 분할의 recall 기록 : [0.6147540983606558, 0.6640625, 0.5773584905660377, 0.6131687242798354, 0.5735294117647058]\n",
      "recall 평균 : 0.608574644994247\n",
      "recall 표준편차: 0.03268274753116117\n"
     ]
    }
   ],
   "source": [
    "accuracy_history = []\n",
    "recall_history = []\n",
    "\n",
    "for train_index, test_index in kf.split(X):\n",
    "\n",
    "    X_train, X_test = X[train_index], X[test_index]\n",
    "    y_train, y_test = y[train_index], y[test_index]\n",
    "\n",
    "    model = KNeighborsClassifier() # 모델 선언\n",
    "    model.fit(X_train, y_train) # 모델 학습\n",
    "\n",
    "    y_pred = model.predict(X_test) # 예측 라벨\n",
    "    accuracy_history.append(accuracy_score(y_pred, y_test)) \n",
    "    recall_history.append(recall_score(y_pred, y_test, pos_label = 1)) \n",
    "\n",
    "print(\"각 분할의 Accuracy 기록 :\", accuracy_history)\n",
    "print(\"Accuracy 평균:\", np.mean(accuracy_history))\n",
    "print(\"Accuracy 표준편차:\", np.std(accuracy_history))\n",
    "\n",
    "print(\"각 분할의 recall 기록 :\", recall_history)\n",
    "print(\"recall 평균 :\", np.mean(recall_history))\n",
    "print(\"recall 표준편차:\", np.std(recall_history))"
   ]
  }
 ],
 "metadata": {
  "kernelspec": {
   "display_name": "Python 3 (ipykernel)",
   "language": "python",
   "name": "python3"
  },
  "language_info": {
   "codemirror_mode": {
    "name": "ipython",
    "version": 3
   },
   "file_extension": ".py",
   "mimetype": "text/x-python",
   "name": "python",
   "nbconvert_exporter": "python",
   "pygments_lexer": "ipython3",
   "version": "3.9.7"
  }
 },
 "nbformat": 4,
 "nbformat_minor": 5
}
