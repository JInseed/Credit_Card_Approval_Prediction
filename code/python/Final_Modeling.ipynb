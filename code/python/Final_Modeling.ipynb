{
 "cells": [
  {
   "cell_type": "code",
   "execution_count": 10,
   "id": "d8513b6c",
   "metadata": {},
   "outputs": [],
   "source": [
    "import pandas as pd\n",
    "import numpy as np\n",
    "from sklearn.metrics import accuracy_score\n",
    "from sklearn.linear_model import LogisticRegression\n",
    "from sklearn.ensemble import RandomForestClassifier\n",
    "from sklearn.svm import SVC\n",
    "from xgboost import XGBClassifier\n",
    "from sklearn.neighbors import KNeighborsClassifier\n",
    "from sklearn.ensemble import VotingClassifier\n",
    "\n",
    "from sklearn.model_selection import GridSearchCV\n",
    "from sklearn.model_selection import train_test_split\n",
    "from sklearn.metrics import f1_score, classification_report\n",
    "\n",
    "from sklearn.compose import ColumnTransformer\n",
    "from sklearn.preprocessing import StandardScaler\n",
    "from sklearn.preprocessing import OneHotEncoder\n",
    "\n",
    "from sklearn.metrics import roc_curve, roc_auc_score, auc, RocCurveDisplay\n",
    "from sklearn.metrics import roc_curve\n",
    "import matplotlib.pyplot as plt"
   ]
  },
  {
   "cell_type": "code",
   "execution_count": 2,
   "id": "a6b3a630",
   "metadata": {},
   "outputs": [],
   "source": [
    "train_1=pd.read_csv('C:/Users/82102/OneDrive - dongguk.edu/바탕 화면/2023.1학기 비어플/train_1.csv',encoding='utf-8')\n",
    "train_2=pd.read_csv('C:/Users/82102/OneDrive - dongguk.edu/바탕 화면/2023.1학기 비어플/train_2.csv',encoding='utf-8')\n",
    "test=pd.read_csv('C:/Users/82102/OneDrive - dongguk.edu/바탕 화면/2023.1학기 비어플/test_set.csv',encoding='utf-8')\n",
    "\n",
    "train = pd.concat([train_1,train_2], ignore_index = True)"
   ]
  },
  {
   "cell_type": "code",
   "execution_count": 3,
   "id": "5acee571",
   "metadata": {},
   "outputs": [],
   "source": [
    "X_train=train.drop(['STATUS'], axis=1)\n",
    "y_train=train['STATUS']\n",
    "\n",
    "X_test=test.drop(['STATUS'], axis=1)\n",
    "y_test=test['STATUS']"
   ]
  },
  {
   "cell_type": "markdown",
   "id": "0c105a67",
   "metadata": {},
   "source": [
    "## 1. Logistic Reggression"
   ]
  },
  {
   "cell_type": "code",
   "execution_count": 19,
   "id": "23d9f89e",
   "metadata": {},
   "outputs": [
    {
     "name": "stdout",
     "output_type": "stream",
     "text": [
      "              precision    recall  f1-score   support\n",
      "\n",
      "           0       1.00      0.94      0.97     55691\n",
      "           1       0.21      0.84      0.33      1051\n",
      "\n",
      "    accuracy                           0.94     56742\n",
      "   macro avg       0.60      0.89      0.65     56742\n",
      "weighted avg       0.98      0.94      0.96     56742\n",
      "\n",
      "ROC AUC Score: 0.8919561606424848\n"
     ]
    },
    {
     "name": "stderr",
     "output_type": "stream",
     "text": [
      "C:\\Users\\82102\\anaconda3\\lib\\site-packages\\sklearn\\linear_model\\_sag.py:350: ConvergenceWarning: The max_iter was reached which means the coef_ did not converge\n",
      "  warnings.warn(\n"
     ]
    }
   ],
   "source": [
    "model_log = LogisticRegression(penalty = 'l2', solver='saga', C = 10, max_iter = 100, random_state=0) \n",
    "model_log.fit(X_train, y_train) # 모델 학습\n",
    "\n",
    "y_pred= model_log.predict(X_test) # 예측 라벨\n",
    "print(classification_report(y_test, y_pred))\n",
    "\n",
    "roc_auc = roc_auc_score(y_test, y_pred) \n",
    "print(\"ROC AUC Score: {}\".format(roc_auc))"
   ]
  },
  {
   "cell_type": "markdown",
   "id": "acaeb4d9",
   "metadata": {},
   "source": [
    "## 2. Random Forest"
   ]
  },
  {
   "cell_type": "code",
   "execution_count": 20,
   "id": "58f586c8",
   "metadata": {},
   "outputs": [
    {
     "name": "stderr",
     "output_type": "stream",
     "text": [
      "C:\\Users\\82102\\anaconda3\\lib\\site-packages\\sklearn\\ensemble\\_forest.py:425: FutureWarning: `max_features='auto'` has been deprecated in 1.1 and will be removed in 1.3. To keep the past behaviour, explicitly set `max_features='sqrt'` or remove this parameter as it is also the default value for RandomForestClassifiers and ExtraTreesClassifiers.\n",
      "  warn(\n"
     ]
    },
    {
     "name": "stdout",
     "output_type": "stream",
     "text": [
      "              precision    recall  f1-score   support\n",
      "\n",
      "           0       1.00      0.87      0.93     55691\n",
      "           1       0.13      0.99      0.22      1051\n",
      "\n",
      "    accuracy                           0.87     56742\n",
      "   macro avg       0.56      0.93      0.58     56742\n",
      "weighted avg       0.98      0.87      0.92     56742\n",
      "\n",
      "ROC AUC Score: 0.9314528372976066\n"
     ]
    }
   ],
   "source": [
    "model_rf = RandomForestClassifier(random_state=0, max_depth = 5, max_features= 'auto', min_samples_leaf= 1, min_samples_split= 2, n_estimators= 200)\n",
    "model_rf.fit(X_train, y_train) # 모델 학습\n",
    "\n",
    "y_pred= model_rf.predict(X_test) # 예측 라벨\n",
    "print(classification_report(y_test, y_pred))\n",
    "\n",
    "roc_auc = roc_auc_score(y_test, y_pred) \n",
    "print(\"ROC AUC Score: {}\".format(roc_auc))"
   ]
  },
  {
   "cell_type": "markdown",
   "id": "abfebf2b",
   "metadata": {},
   "source": [
    "## 3. SVM"
   ]
  },
  {
   "cell_type": "code",
   "execution_count": 21,
   "id": "04706640",
   "metadata": {},
   "outputs": [
    {
     "name": "stdout",
     "output_type": "stream",
     "text": [
      "              precision    recall  f1-score   support\n",
      "\n",
      "           0       1.00      0.68      0.81     55691\n",
      "           1       0.05      0.92      0.10      1051\n",
      "\n",
      "    accuracy                           0.68     56742\n",
      "   macro avg       0.52      0.80      0.45     56742\n",
      "weighted avg       0.98      0.68      0.79     56742\n",
      "\n",
      "ROC AUC Score: 0.7993205799275638\n"
     ]
    }
   ],
   "source": [
    "model_svc = SVC(kernel = 'rbf',random_state=0, C=0.1, gamma=1, probability=True)\n",
    "model_svc.fit(X_train, y_train) # 모델 학습\n",
    "\n",
    "y_pred= model_svc.predict(X_test) # 예측 라벨\n",
    "print(classification_report(y_test, y_pred))\n",
    "\n",
    "roc_auc = roc_auc_score(y_test, y_pred) \n",
    "print(\"ROC AUC Score: {}\".format(roc_auc))"
   ]
  },
  {
   "cell_type": "markdown",
   "id": "c5f59b70",
   "metadata": {},
   "source": [
    "## 4. XGB"
   ]
  },
  {
   "cell_type": "code",
   "execution_count": 22,
   "id": "1544b704",
   "metadata": {},
   "outputs": [
    {
     "name": "stdout",
     "output_type": "stream",
     "text": [
      "[06:44:38] WARNING: ..\\src\\learner.cc:1115: Starting in XGBoost 1.3.0, the default evaluation metric used with the objective 'binary:logistic' was changed from 'error' to 'logloss'. Explicitly set eval_metric if you'd like to restore the old behavior.\n",
      "              precision    recall  f1-score   support\n",
      "\n",
      "           0       1.00      0.87      0.93     55691\n",
      "           1       0.12      0.99      0.22      1051\n",
      "\n",
      "    accuracy                           0.87     56742\n",
      "   macro avg       0.56      0.93      0.58     56742\n",
      "weighted avg       0.98      0.87      0.92     56742\n",
      "\n",
      "ROC AUC Score: 0.9311295227791258\n"
     ]
    },
    {
     "name": "stderr",
     "output_type": "stream",
     "text": [
      "C:\\Users\\82102\\anaconda3\\lib\\site-packages\\xgboost\\sklearn.py:1224: UserWarning: The use of label encoder in XGBClassifier is deprecated and will be removed in a future release. To remove this warning, do the following: 1) Pass option use_label_encoder=False when constructing XGBClassifier object; and 2) Encode your labels (y) as integers starting with 0, i.e. 0, 1, 2, ..., [num_class - 1].\n",
      "  warnings.warn(label_encoder_deprecation_msg, UserWarning)\n"
     ]
    }
   ],
   "source": [
    "model_xgb = XGBClassifier(random_state=0, colsample_bytree= 0.5, gamma= 0, learning_rate= 0.01, max_depth=2, n_estimators=10, subsample=0.5)\n",
    "model_xgb.fit(X_train, y_train) # 모델 학습\n",
    "\n",
    "y_pred= model_xgb.predict(X_test) # 예측 라벨\n",
    "print(classification_report(y_test, y_pred))\n",
    "\n",
    "roc_auc = roc_auc_score(y_test, y_pred) \n",
    "print(\"ROC AUC Score: {}\".format(roc_auc))"
   ]
  },
  {
   "cell_type": "markdown",
   "id": "8223c950",
   "metadata": {},
   "source": [
    "## 5. KNN"
   ]
  },
  {
   "cell_type": "code",
   "execution_count": 23,
   "id": "4789b4fe",
   "metadata": {},
   "outputs": [
    {
     "name": "stdout",
     "output_type": "stream",
     "text": [
      "              precision    recall  f1-score   support\n",
      "\n",
      "           0       1.00      0.90      0.95     55691\n",
      "           1       0.14      0.85      0.24      1051\n",
      "\n",
      "    accuracy                           0.90     56742\n",
      "   macro avg       0.57      0.87      0.59     56742\n",
      "weighted avg       0.98      0.90      0.93     56742\n",
      "\n",
      "ROC AUC Score: 0.8743945647760996\n"
     ]
    }
   ],
   "source": [
    "model_k = KNeighborsClassifier(n_neighbors= 3)\n",
    "model_k.fit(X_train, y_train) # 모델 학습\n",
    "\n",
    "y_pred= model_k.predict(X_test) # 예측 라벨\n",
    "print(classification_report(y_test, y_pred))\n",
    "\n",
    "roc_auc = roc_auc_score(y_test, y_pred) \n",
    "print(\"ROC AUC Score: {}\".format(roc_auc))"
   ]
  },
  {
   "cell_type": "markdown",
   "id": "8d35d112",
   "metadata": {},
   "source": [
    "## 6. Soft Ensemble"
   ]
  },
  {
   "cell_type": "code",
   "execution_count": 24,
   "id": "1c48860b",
   "metadata": {},
   "outputs": [
    {
     "name": "stderr",
     "output_type": "stream",
     "text": [
      "C:\\Users\\82102\\anaconda3\\lib\\site-packages\\sklearn\\linear_model\\_sag.py:350: ConvergenceWarning: The max_iter was reached which means the coef_ did not converge\n",
      "  warnings.warn(\n",
      "C:\\Users\\82102\\anaconda3\\lib\\site-packages\\sklearn\\ensemble\\_forest.py:425: FutureWarning: `max_features='auto'` has been deprecated in 1.1 and will be removed in 1.3. To keep the past behaviour, explicitly set `max_features='sqrt'` or remove this parameter as it is also the default value for RandomForestClassifiers and ExtraTreesClassifiers.\n",
      "  warn(\n",
      "C:\\Users\\82102\\anaconda3\\lib\\site-packages\\xgboost\\sklearn.py:1224: UserWarning: The use of label encoder in XGBClassifier is deprecated and will be removed in a future release. To remove this warning, do the following: 1) Pass option use_label_encoder=False when constructing XGBClassifier object; and 2) Encode your labels (y) as integers starting with 0, i.e. 0, 1, 2, ..., [num_class - 1].\n",
      "  warnings.warn(label_encoder_deprecation_msg, UserWarning)\n"
     ]
    },
    {
     "name": "stdout",
     "output_type": "stream",
     "text": [
      "[06:44:51] WARNING: ..\\src\\learner.cc:1115: Starting in XGBoost 1.3.0, the default evaluation metric used with the objective 'binary:logistic' was changed from 'error' to 'logloss'. Explicitly set eval_metric if you'd like to restore the old behavior.\n",
      "              precision    recall  f1-score   support\n",
      "\n",
      "           0       1.00      0.93      0.96     55691\n",
      "           1       0.19      0.86      0.31      1051\n",
      "\n",
      "    accuracy                           0.93     56742\n",
      "   macro avg       0.59      0.89      0.64     56742\n",
      "weighted avg       0.98      0.93      0.95     56742\n",
      "\n",
      "ROC AUC Score: 0.8927181725055172\n"
     ]
    }
   ],
   "source": [
    "model_se = VotingClassifier(estimators=[ ('LogisticRegression', model_log), ('RandomForest', model_rf),\n",
    "                                        ('SVC', model_svc),('XGB', model_xgb),('KNN', model_k)], voting='soft')\n",
    "\n",
    "model_se.fit(X_train, y_train) # 모델 학습\n",
    "\n",
    "y_pred= model_se.predict(X_test) # 예측 라벨\n",
    "print(classification_report(y_test, y_pred))\n",
    "\n",
    "roc_auc = roc_auc_score(y_test, y_pred) \n",
    "print(\"ROC AUC Score: {}\".format(roc_auc))"
   ]
  },
  {
   "cell_type": "code",
   "execution_count": 25,
   "id": "a25351a4",
   "metadata": {},
   "outputs": [
    {
     "data": {
      "image/png": "[encoded data removed]",
      "text/plain": [
       "<Figure size 576x576 with 1 Axes>"
      ]
     },
     "metadata": {},
     "output_type": "display_data"
    }
   ],
   "source": [
    "fig = plt.figure(figsize=(8,8))\n",
    "fig.set_facecolor('white')\n",
    "ax = fig.add_subplot()\n",
    "RocCurveDisplay.from_estimator(model_log, X_test, y_test, ax=ax)\n",
    "RocCurveDisplay.from_estimator(model_rf, X_test, y_test, ax=ax)\n",
    "RocCurveDisplay.from_estimator(model_svc, X_test, y_test, ax=ax)\n",
    "RocCurveDisplay.from_estimator(model_xgb, X_test, y_test, ax=ax)\n",
    "RocCurveDisplay.from_estimator(model_k, X_test, y_test, ax=ax)\n",
    "RocCurveDisplay.from_estimator(model_se, X_test, y_test, ax=ax)\n",
    "\n",
    "ax.plot([0, 1], [0, 1], color='red', label='Random Model')\n",
    "ax.legend()\n",
    "plt.show()"
   ]
  }
 ],
 "metadata": {
  "kernelspec": {
   "display_name": "Python 3 (ipykernel)",
   "language": "python",
   "name": "python3"
  },
  "language_info": {
   "codemirror_mode": {
    "name": "ipython",
    "version": 3
   },
   "file_extension": ".py",
   "mimetype": "text/x-python",
   "name": "python",
   "nbconvert_exporter": "python",
   "pygments_lexer": "ipython3",
   "version": "3.9.7"
  }
 },
 "nbformat": 4,
 "nbformat_minor": 5
}
